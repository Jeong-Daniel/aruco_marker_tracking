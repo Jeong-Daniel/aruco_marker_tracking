{
 "cells": [
  {
   "cell_type": "code",
   "execution_count": 442,
   "id": "1d6db9a1",
   "metadata": {},
   "outputs": [],
   "source": [
    "import pandas as pd\n",
    "import numpy as np\n",
    "import matplotlib.pyplot as plt\n",
    "from matplotlib import font_manager, rc\n",
    "font_path = \"C:/Windows/Fonts/NGULIM.TTF\"\n",
    "font = font_manager.FontProperties(fname=font_path).get_name()\n",
    "rc('font', family=font)"
   ]
  },
  {
   "cell_type": "code",
   "execution_count": 443,
   "id": "662e4b74",
   "metadata": {},
   "outputs": [],
   "source": [
    "df_angle = pd.read_csv('08_20-14-35_10_angle.csv', index_col = 0)\n",
    "df_trans = pd.read_csv('08_20-14-35_10_trans.csv', index_col = 0)\n",
    "df_trans = df_trans*100"
   ]
  },
  {
   "cell_type": "code",
   "execution_count": 444,
   "id": "ff3918da",
   "metadata": {
    "scrolled": true
   },
   "outputs": [
    {
     "data": {
      "text/html": [
       "<div>\n",
       "<style scoped>\n",
       "    .dataframe tbody tr th:only-of-type {\n",
       "        vertical-align: middle;\n",
       "    }\n",
       "\n",
       "    .dataframe tbody tr th {\n",
       "        vertical-align: top;\n",
       "    }\n",
       "\n",
       "    .dataframe thead th {\n",
       "        text-align: right;\n",
       "    }\n",
       "</style>\n",
       "<table border=\"1\" class=\"dataframe\">\n",
       "  <thead>\n",
       "    <tr style=\"text-align: right;\">\n",
       "      <th></th>\n",
       "      <th>pitch</th>\n",
       "      <th>yaw</th>\n",
       "      <th>roll</th>\n",
       "    </tr>\n",
       "  </thead>\n",
       "  <tbody>\n",
       "    <tr>\n",
       "      <th>count</th>\n",
       "      <td>57.000000</td>\n",
       "      <td>57.000000</td>\n",
       "      <td>57.000000</td>\n",
       "    </tr>\n",
       "    <tr>\n",
       "      <th>mean</th>\n",
       "      <td>-32.905953</td>\n",
       "      <td>0.548694</td>\n",
       "      <td>-1.239479</td>\n",
       "    </tr>\n",
       "    <tr>\n",
       "      <th>std</th>\n",
       "      <td>0.210009</td>\n",
       "      <td>0.117773</td>\n",
       "      <td>0.111915</td>\n",
       "    </tr>\n",
       "    <tr>\n",
       "      <th>min</th>\n",
       "      <td>-33.373756</td>\n",
       "      <td>0.276302</td>\n",
       "      <td>-1.528428</td>\n",
       "    </tr>\n",
       "    <tr>\n",
       "      <th>25%</th>\n",
       "      <td>-32.917719</td>\n",
       "      <td>0.547707</td>\n",
       "      <td>-1.262345</td>\n",
       "    </tr>\n",
       "    <tr>\n",
       "      <th>50%</th>\n",
       "      <td>-32.917719</td>\n",
       "      <td>0.547707</td>\n",
       "      <td>-1.262345</td>\n",
       "    </tr>\n",
       "    <tr>\n",
       "      <th>75%</th>\n",
       "      <td>-32.917719</td>\n",
       "      <td>0.547707</td>\n",
       "      <td>-1.262345</td>\n",
       "    </tr>\n",
       "    <tr>\n",
       "      <th>max</th>\n",
       "      <td>-32.336581</td>\n",
       "      <td>0.993162</td>\n",
       "      <td>-0.749688</td>\n",
       "    </tr>\n",
       "  </tbody>\n",
       "</table>\n",
       "</div>"
      ],
      "text/plain": [
       "           pitch        yaw       roll\n",
       "count  57.000000  57.000000  57.000000\n",
       "mean  -32.905953   0.548694  -1.239479\n",
       "std     0.210009   0.117773   0.111915\n",
       "min   -33.373756   0.276302  -1.528428\n",
       "25%   -32.917719   0.547707  -1.262345\n",
       "50%   -32.917719   0.547707  -1.262345\n",
       "75%   -32.917719   0.547707  -1.262345\n",
       "max   -32.336581   0.993162  -0.749688"
      ]
     },
     "execution_count": 444,
     "metadata": {},
     "output_type": "execute_result"
    }
   ],
   "source": [
    "df_angle.describe()"
   ]
  },
  {
   "cell_type": "code",
   "execution_count": 445,
   "id": "b66121b4",
   "metadata": {},
   "outputs": [],
   "source": [
    "df_angle = (df_angle-2)*(-1)\n",
    "#df_angle = df_angle[:50]"
   ]
  },
  {
   "cell_type": "code",
   "execution_count": 446,
   "id": "c224815f",
   "metadata": {
    "scrolled": false
   },
   "outputs": [
    {
     "data": {
      "text/html": [
       "<div>\n",
       "<style scoped>\n",
       "    .dataframe tbody tr th:only-of-type {\n",
       "        vertical-align: middle;\n",
       "    }\n",
       "\n",
       "    .dataframe tbody tr th {\n",
       "        vertical-align: top;\n",
       "    }\n",
       "\n",
       "    .dataframe thead th {\n",
       "        text-align: right;\n",
       "    }\n",
       "</style>\n",
       "<table border=\"1\" class=\"dataframe\">\n",
       "  <thead>\n",
       "    <tr style=\"text-align: right;\">\n",
       "      <th></th>\n",
       "      <th>x</th>\n",
       "      <th>y</th>\n",
       "      <th>z</th>\n",
       "    </tr>\n",
       "  </thead>\n",
       "  <tbody>\n",
       "    <tr>\n",
       "      <th>count</th>\n",
       "      <td>57.000000</td>\n",
       "      <td>57.000000</td>\n",
       "      <td>57.000000</td>\n",
       "    </tr>\n",
       "    <tr>\n",
       "      <th>mean</th>\n",
       "      <td>1.054211</td>\n",
       "      <td>17.470596</td>\n",
       "      <td>71.382579</td>\n",
       "    </tr>\n",
       "    <tr>\n",
       "      <th>std</th>\n",
       "      <td>0.008066</td>\n",
       "      <td>0.010226</td>\n",
       "      <td>0.026107</td>\n",
       "    </tr>\n",
       "    <tr>\n",
       "      <th>min</th>\n",
       "      <td>1.046000</td>\n",
       "      <td>17.440000</td>\n",
       "      <td>71.372000</td>\n",
       "    </tr>\n",
       "    <tr>\n",
       "      <th>25%</th>\n",
       "      <td>1.052000</td>\n",
       "      <td>17.469000</td>\n",
       "      <td>71.375000</td>\n",
       "    </tr>\n",
       "    <tr>\n",
       "      <th>50%</th>\n",
       "      <td>1.052000</td>\n",
       "      <td>17.469000</td>\n",
       "      <td>71.375000</td>\n",
       "    </tr>\n",
       "    <tr>\n",
       "      <th>75%</th>\n",
       "      <td>1.052000</td>\n",
       "      <td>17.469000</td>\n",
       "      <td>71.375000</td>\n",
       "    </tr>\n",
       "    <tr>\n",
       "      <th>max</th>\n",
       "      <td>1.095000</td>\n",
       "      <td>17.491000</td>\n",
       "      <td>71.483000</td>\n",
       "    </tr>\n",
       "  </tbody>\n",
       "</table>\n",
       "</div>"
      ],
      "text/plain": [
       "               x          y          z\n",
       "count  57.000000  57.000000  57.000000\n",
       "mean    1.054211  17.470596  71.382579\n",
       "std     0.008066   0.010226   0.026107\n",
       "min     1.046000  17.440000  71.372000\n",
       "25%     1.052000  17.469000  71.375000\n",
       "50%     1.052000  17.469000  71.375000\n",
       "75%     1.052000  17.469000  71.375000\n",
       "max     1.095000  17.491000  71.483000"
      ]
     },
     "execution_count": 446,
     "metadata": {},
     "output_type": "execute_result"
    }
   ],
   "source": [
    "df_trans.describe()"
   ]
  },
  {
   "cell_type": "code",
   "execution_count": 447,
   "id": "3ee40adc",
   "metadata": {},
   "outputs": [
    {
     "data": {
      "text/html": [
       "<div>\n",
       "<style scoped>\n",
       "    .dataframe tbody tr th:only-of-type {\n",
       "        vertical-align: middle;\n",
       "    }\n",
       "\n",
       "    .dataframe tbody tr th {\n",
       "        vertical-align: top;\n",
       "    }\n",
       "\n",
       "    .dataframe thead th {\n",
       "        text-align: right;\n",
       "    }\n",
       "</style>\n",
       "<table border=\"1\" class=\"dataframe\">\n",
       "  <thead>\n",
       "    <tr style=\"text-align: right;\">\n",
       "      <th></th>\n",
       "      <th>x</th>\n",
       "      <th>y</th>\n",
       "      <th>z</th>\n",
       "    </tr>\n",
       "  </thead>\n",
       "  <tbody>\n",
       "    <tr>\n",
       "      <th>0</th>\n",
       "      <td>1.074</td>\n",
       "      <td>17.440</td>\n",
       "      <td>71.483</td>\n",
       "    </tr>\n",
       "    <tr>\n",
       "      <th>1</th>\n",
       "      <td>1.095</td>\n",
       "      <td>17.451</td>\n",
       "      <td>71.388</td>\n",
       "    </tr>\n",
       "    <tr>\n",
       "      <th>2</th>\n",
       "      <td>1.074</td>\n",
       "      <td>17.440</td>\n",
       "      <td>71.483</td>\n",
       "    </tr>\n",
       "    <tr>\n",
       "      <th>3</th>\n",
       "      <td>1.052</td>\n",
       "      <td>17.469</td>\n",
       "      <td>71.375</td>\n",
       "    </tr>\n",
       "    <tr>\n",
       "      <th>4</th>\n",
       "      <td>1.055</td>\n",
       "      <td>17.450</td>\n",
       "      <td>71.384</td>\n",
       "    </tr>\n",
       "  </tbody>\n",
       "</table>\n",
       "</div>"
      ],
      "text/plain": [
       "       x       y       z\n",
       "0  1.074  17.440  71.483\n",
       "1  1.095  17.451  71.388\n",
       "2  1.074  17.440  71.483\n",
       "3  1.052  17.469  71.375\n",
       "4  1.055  17.450  71.384"
      ]
     },
     "execution_count": 447,
     "metadata": {},
     "output_type": "execute_result"
    }
   ],
   "source": [
    "df_trans.head()"
   ]
  },
  {
   "cell_type": "code",
   "execution_count": 448,
   "id": "c7e74997",
   "metadata": {},
   "outputs": [
    {
     "data": {
      "text/html": [
       "<div>\n",
       "<style scoped>\n",
       "    .dataframe tbody tr th:only-of-type {\n",
       "        vertical-align: middle;\n",
       "    }\n",
       "\n",
       "    .dataframe tbody tr th {\n",
       "        vertical-align: top;\n",
       "    }\n",
       "\n",
       "    .dataframe thead th {\n",
       "        text-align: right;\n",
       "    }\n",
       "</style>\n",
       "<table border=\"1\" class=\"dataframe\">\n",
       "  <thead>\n",
       "    <tr style=\"text-align: right;\">\n",
       "      <th></th>\n",
       "      <th>pitch</th>\n",
       "      <th>yaw</th>\n",
       "      <th>roll</th>\n",
       "    </tr>\n",
       "  </thead>\n",
       "  <tbody>\n",
       "    <tr>\n",
       "      <th>0</th>\n",
       "      <td>35.113092</td>\n",
       "      <td>1.522502</td>\n",
       "      <td>3.082024</td>\n",
       "    </tr>\n",
       "    <tr>\n",
       "      <th>1</th>\n",
       "      <td>35.296613</td>\n",
       "      <td>1.723698</td>\n",
       "      <td>2.749688</td>\n",
       "    </tr>\n",
       "    <tr>\n",
       "      <th>2</th>\n",
       "      <td>35.113092</td>\n",
       "      <td>1.522502</td>\n",
       "      <td>3.082024</td>\n",
       "    </tr>\n",
       "    <tr>\n",
       "      <th>3</th>\n",
       "      <td>34.917719</td>\n",
       "      <td>1.452293</td>\n",
       "      <td>3.262345</td>\n",
       "    </tr>\n",
       "    <tr>\n",
       "      <th>4</th>\n",
       "      <td>35.293257</td>\n",
       "      <td>1.588656</td>\n",
       "      <td>3.113125</td>\n",
       "    </tr>\n",
       "  </tbody>\n",
       "</table>\n",
       "</div>"
      ],
      "text/plain": [
       "       pitch       yaw      roll\n",
       "0  35.113092  1.522502  3.082024\n",
       "1  35.296613  1.723698  2.749688\n",
       "2  35.113092  1.522502  3.082024\n",
       "3  34.917719  1.452293  3.262345\n",
       "4  35.293257  1.588656  3.113125"
      ]
     },
     "execution_count": 448,
     "metadata": {},
     "output_type": "execute_result"
    }
   ],
   "source": [
    "df_angle.head()"
   ]
  },
  {
   "cell_type": "code",
   "execution_count": 449,
   "id": "30887b7a",
   "metadata": {},
   "outputs": [],
   "source": [
    "label = ['pitch','yaw','roll']"
   ]
  },
  {
   "cell_type": "code",
   "execution_count": 450,
   "id": "7f363247",
   "metadata": {
    "scrolled": true
   },
   "outputs": [
    {
     "data": {
      "image/png": "[encoded data removed]",
      "text/plain": [
       "<Figure size 432x288 with 1 Axes>"
      ]
     },
     "metadata": {
      "needs_background": "light"
     },
     "output_type": "display_data"
    }
   ],
   "source": [
    "plt.plot(df_angle['pitch'], label='pitch')\n",
    "plt.plot(df_angle['yaw'], label='yaw')\n",
    "plt.plot(df_angle['roll'], label='roll')\n",
    "plt.ylabel('angle(degree)')\n",
    "plt.xlabel('횟수')\n",
    "plt.legend(loc='upper right', frameon=True) \n",
    "plt.show()"
   ]
  },
  {
   "cell_type": "code",
   "execution_count": 451,
   "id": "c176674a",
   "metadata": {},
   "outputs": [
    {
     "data": {
      "image/png": "[encoded data removed]",
      "text/plain": [
       "<Figure size 432x288 with 1 Axes>"
      ]
     },
     "metadata": {
      "needs_background": "light"
     },
     "output_type": "display_data"
    }
   ],
   "source": [
    "plt.plot(df_trans['x'], label='x distance')\n",
    "plt.plot(df_trans['y'], label='y distance')\n",
    "plt.plot(df_trans['z'], label='z distance')\n",
    "plt.xlabel('횟수')\n",
    "plt.ylabel('distance(cm)')\n",
    "plt.legend(loc='upper right', frameon=True) \n",
    "plt.show()"
   ]
  },
  {
   "cell_type": "code",
   "execution_count": 452,
   "id": "87825588",
   "metadata": {
    "scrolled": true
   },
   "outputs": [
    {
     "data": {
      "image/png": "[encoded data removed]",
      "text/plain": [
       "<Figure size 432x288 with 1 Axes>"
      ]
     },
     "metadata": {
      "needs_background": "light"
     },
     "output_type": "display_data"
    }
   ],
   "source": [
    "#plt.plot(df_angle['yaw'], label='yaw', color='#ff7f0e')\n",
    "#plt.plot(df_angle['roll'], label='roll', color='#2ca02c')\n",
    "plt.plot(df_angle['pitch'], label='Origin_pitch', color='violet')\n",
    "plt.ylabel('angle(degree)')\n",
    "plt.xlabel('횟수')\n",
    "plt.legend(loc='upper right', frameon=True) \n",
    "plt.show()"
   ]
  },
  {
   "cell_type": "code",
   "execution_count": 453,
   "id": "845307d7",
   "metadata": {},
   "outputs": [
    {
     "data": {
      "image/png": "[encoded data removed]",
      "text/plain": [
       "<Figure size 432x288 with 1 Axes>"
      ]
     },
     "metadata": {
      "needs_background": "light"
     },
     "output_type": "display_data"
    }
   ],
   "source": [
    "#plt.plot(df_trans['z'], label='z distance',color='#2ca02c')\n",
    "plt.plot(df_trans['x'], label='Origin_y distance')\n",
    "plt.xlabel('횟수')\n",
    "plt.ylabel('Tozero+Otsu_distance(cm)')\n",
    "plt.legend()\n",
    "plt.show()"
   ]
  },
  {
   "cell_type": "code",
   "execution_count": 454,
   "id": "292024a2",
   "metadata": {},
   "outputs": [],
   "source": [
    "import pandas as pd\n",
    "import numpy as np\n",
    "import matplotlib.pyplot as plt\n",
    "from matplotlib import font_manager, rc\n",
    "font_path = \"C:/Windows/Fonts/NGULIM.TTF\"\n",
    "font = font_manager.FontProperties(fname=font_path).get_name()\n",
    "rc('font', family=font)"
   ]
  },
  {
   "cell_type": "code",
   "execution_count": 455,
   "id": "756a62a9",
   "metadata": {},
   "outputs": [],
   "source": [
    "df_angle_2 = pd.read_csv('08_20-08-57_1_angle.csv', index_col = 0)\n",
    "df_trans_2 = pd.read_csv('08_20-08-57_1_trans.csv', index_col = 0)\n",
    "df_trans = df_trans*100\n",
    "df_angle_2 = df_angle_2[:50]*-1\n",
    "df_angle = df_angle[:50]"
   ]
  },
  {
   "cell_type": "code",
   "execution_count": 456,
   "id": "db869c33",
   "metadata": {},
   "outputs": [
    {
     "data": {
      "image/png": "[encoded data removed]",
      "text/plain": [
       "<Figure size 432x288 with 1 Axes>"
      ]
     },
     "metadata": {
      "needs_background": "light"
     },
     "output_type": "display_data"
    }
   ],
   "source": [
    "plt.plot(df_angle['pitch'], label='Tozero+otsu_roll', color='violet')\n",
    "plt.plot(df_angle_2['pitch'], label='Origin_roll')\n",
    "plt.title('Origin과 Tozero+Otsu 비교')\n",
    "plt.axhline(y=35, xmin=0, xmax=50, color='limegreen', label='Reference')\n",
    "plt.ylabel('Roll angle(degree)')\n",
    "plt.xlabel('시간')\n",
    "plt.legend(loc='lower right', frameon=True)\n",
    "plt.show()"
   ]
  },
  {
   "cell_type": "code",
   "execution_count": 459,
   "id": "18f8f348",
   "metadata": {
    "scrolled": true
   },
   "outputs": [
    {
     "data": {
      "text/html": [
       "<div>\n",
       "<style scoped>\n",
       "    .dataframe tbody tr th:only-of-type {\n",
       "        vertical-align: middle;\n",
       "    }\n",
       "\n",
       "    .dataframe tbody tr th {\n",
       "        vertical-align: top;\n",
       "    }\n",
       "\n",
       "    .dataframe thead th {\n",
       "        text-align: right;\n",
       "    }\n",
       "</style>\n",
       "<table border=\"1\" class=\"dataframe\">\n",
       "  <thead>\n",
       "    <tr style=\"text-align: right;\">\n",
       "      <th></th>\n",
       "      <th>pitch</th>\n",
       "      <th>yaw</th>\n",
       "      <th>roll</th>\n",
       "    </tr>\n",
       "  </thead>\n",
       "  <tbody>\n",
       "    <tr>\n",
       "      <th>count</th>\n",
       "      <td>50.000000</td>\n",
       "      <td>50.000000</td>\n",
       "      <td>50.000000</td>\n",
       "    </tr>\n",
       "    <tr>\n",
       "      <th>mean</th>\n",
       "      <td>34.944739</td>\n",
       "      <td>1.439432</td>\n",
       "      <td>3.250536</td>\n",
       "    </tr>\n",
       "    <tr>\n",
       "      <th>std</th>\n",
       "      <td>0.182039</td>\n",
       "      <td>0.119494</td>\n",
       "      <td>0.112720</td>\n",
       "    </tr>\n",
       "    <tr>\n",
       "      <th>min</th>\n",
       "      <td>34.336581</td>\n",
       "      <td>1.006838</td>\n",
       "      <td>2.749688</td>\n",
       "    </tr>\n",
       "    <tr>\n",
       "      <th>25%</th>\n",
       "      <td>34.917719</td>\n",
       "      <td>1.452293</td>\n",
       "      <td>3.262345</td>\n",
       "    </tr>\n",
       "    <tr>\n",
       "      <th>50%</th>\n",
       "      <td>34.917719</td>\n",
       "      <td>1.452293</td>\n",
       "      <td>3.262345</td>\n",
       "    </tr>\n",
       "    <tr>\n",
       "      <th>75%</th>\n",
       "      <td>34.917719</td>\n",
       "      <td>1.452293</td>\n",
       "      <td>3.262345</td>\n",
       "    </tr>\n",
       "    <tr>\n",
       "      <th>max</th>\n",
       "      <td>35.373756</td>\n",
       "      <td>1.723698</td>\n",
       "      <td>3.528428</td>\n",
       "    </tr>\n",
       "  </tbody>\n",
       "</table>\n",
       "</div>"
      ],
      "text/plain": [
       "           pitch        yaw       roll\n",
       "count  50.000000  50.000000  50.000000\n",
       "mean   34.944739   1.439432   3.250536\n",
       "std     0.182039   0.119494   0.112720\n",
       "min    34.336581   1.006838   2.749688\n",
       "25%    34.917719   1.452293   3.262345\n",
       "50%    34.917719   1.452293   3.262345\n",
       "75%    34.917719   1.452293   3.262345\n",
       "max    35.373756   1.723698   3.528428"
      ]
     },
     "execution_count": 459,
     "metadata": {},
     "output_type": "execute_result"
    }
   ],
   "source": [
    "from sklearn.metrics import mean_absolute_error\n",
    "df_angle.describe()"
   ]
  },
  {
   "cell_type": "code",
   "execution_count": null,
   "id": "4789c913",
   "metadata": {},
   "outputs": [],
   "source": []
  }
 ],
 "metadata": {
  "kernelspec": {
   "display_name": "Python 3",
   "language": "python",
   "name": "python3"
  },
  "language_info": {
   "codemirror_mode": {
    "name": "ipython",
    "version": 3
   },
   "file_extension": ".py",
   "mimetype": "text/x-python",
   "name": "python",
   "nbconvert_exporter": "python",
   "pygments_lexer": "ipython3",
   "version": "3.8.10"
  }
 },
 "nbformat": 4,
 "nbformat_minor": 5
}
