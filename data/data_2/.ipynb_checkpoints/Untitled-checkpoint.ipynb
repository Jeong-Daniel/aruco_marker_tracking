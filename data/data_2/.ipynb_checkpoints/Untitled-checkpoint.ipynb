{
 "cells": [
  {
   "cell_type": "code",
   "execution_count": 14,
   "id": "1d6db9a1",
   "metadata": {},
   "outputs": [],
   "source": [
    "import pandas as pd\n",
    "import numpy as np\n",
    "import matplotlib.pyplot as plt\n",
    "from matplotlib import font_manager, rc\n",
    "font_path = \"C:/Windows/Fonts/NGULIM.TTF\"\n",
    "font = font_manager.FontProperties(fname=font_path).get_name()\n",
    "rc('font', family=font)"
   ]
  },
  {
   "cell_type": "code",
   "execution_count": 15,
   "id": "662e4b74",
   "metadata": {},
   "outputs": [],
   "source": [
    "df_angle = pd.read_csv('08_20-14-15_10_angle.csv', index_col = 0)\n",
    "df_trans = pd.read_csv('08_20-14-15_10_trans.csv', index_col = 0)\n",
    "df_trans = df_trans*100"
   ]
  },
  {
   "cell_type": "code",
   "execution_count": 16,
   "id": "11a978dd",
   "metadata": {},
   "outputs": [],
   "source": [
    "df_angle=df_angle[5:]"
   ]
  },
  {
   "cell_type": "code",
   "execution_count": 17,
   "id": "ff3918da",
   "metadata": {
    "scrolled": true
   },
   "outputs": [
    {
     "data": {
      "text/html": [
       "<div>\n",
       "<style scoped>\n",
       "    .dataframe tbody tr th:only-of-type {\n",
       "        vertical-align: middle;\n",
       "    }\n",
       "\n",
       "    .dataframe tbody tr th {\n",
       "        vertical-align: top;\n",
       "    }\n",
       "\n",
       "    .dataframe thead th {\n",
       "        text-align: right;\n",
       "    }\n",
       "</style>\n",
       "<table border=\"1\" class=\"dataframe\">\n",
       "  <thead>\n",
       "    <tr style=\"text-align: right;\">\n",
       "      <th></th>\n",
       "      <th>pitch</th>\n",
       "      <th>yaw</th>\n",
       "      <th>roll</th>\n",
       "    </tr>\n",
       "  </thead>\n",
       "  <tbody>\n",
       "    <tr>\n",
       "      <th>count</th>\n",
       "      <td>60.000000</td>\n",
       "      <td>60.000000</td>\n",
       "      <td>60.000000</td>\n",
       "    </tr>\n",
       "    <tr>\n",
       "      <th>mean</th>\n",
       "      <td>-32.909465</td>\n",
       "      <td>0.504975</td>\n",
       "      <td>-1.219060</td>\n",
       "    </tr>\n",
       "    <tr>\n",
       "      <th>std</th>\n",
       "      <td>0.498592</td>\n",
       "      <td>0.210859</td>\n",
       "      <td>0.140917</td>\n",
       "    </tr>\n",
       "    <tr>\n",
       "      <th>min</th>\n",
       "      <td>-33.681798</td>\n",
       "      <td>-0.002072</td>\n",
       "      <td>-1.528428</td>\n",
       "    </tr>\n",
       "    <tr>\n",
       "      <th>25%</th>\n",
       "      <td>-33.253967</td>\n",
       "      <td>0.474858</td>\n",
       "      <td>-1.262345</td>\n",
       "    </tr>\n",
       "    <tr>\n",
       "      <th>50%</th>\n",
       "      <td>-32.917719</td>\n",
       "      <td>0.547707</td>\n",
       "      <td>-1.262147</td>\n",
       "    </tr>\n",
       "    <tr>\n",
       "      <th>75%</th>\n",
       "      <td>-32.797307</td>\n",
       "      <td>0.547707</td>\n",
       "      <td>-1.105350</td>\n",
       "    </tr>\n",
       "    <tr>\n",
       "      <th>max</th>\n",
       "      <td>-31.674260</td>\n",
       "      <td>0.993162</td>\n",
       "      <td>-0.805265</td>\n",
       "    </tr>\n",
       "  </tbody>\n",
       "</table>\n",
       "</div>"
      ],
      "text/plain": [
       "           pitch        yaw       roll\n",
       "count  60.000000  60.000000  60.000000\n",
       "mean  -32.909465   0.504975  -1.219060\n",
       "std     0.498592   0.210859   0.140917\n",
       "min   -33.681798  -0.002072  -1.528428\n",
       "25%   -33.253967   0.474858  -1.262345\n",
       "50%   -32.917719   0.547707  -1.262147\n",
       "75%   -32.797307   0.547707  -1.105350\n",
       "max   -31.674260   0.993162  -0.805265"
      ]
     },
     "execution_count": 17,
     "metadata": {},
     "output_type": "execute_result"
    }
   ],
   "source": [
    "df_angle.describe()"
   ]
  },
  {
   "cell_type": "code",
   "execution_count": 18,
   "id": "c224815f",
   "metadata": {
    "scrolled": false
   },
   "outputs": [
    {
     "data": {
      "text/html": [
       "<div>\n",
       "<style scoped>\n",
       "    .dataframe tbody tr th:only-of-type {\n",
       "        vertical-align: middle;\n",
       "    }\n",
       "\n",
       "    .dataframe tbody tr th {\n",
       "        vertical-align: top;\n",
       "    }\n",
       "\n",
       "    .dataframe thead th {\n",
       "        text-align: right;\n",
       "    }\n",
       "</style>\n",
       "<table border=\"1\" class=\"dataframe\">\n",
       "  <thead>\n",
       "    <tr style=\"text-align: right;\">\n",
       "      <th></th>\n",
       "      <th>x</th>\n",
       "      <th>y</th>\n",
       "      <th>z</th>\n",
       "    </tr>\n",
       "  </thead>\n",
       "  <tbody>\n",
       "    <tr>\n",
       "      <th>count</th>\n",
       "      <td>65.000000</td>\n",
       "      <td>65.000000</td>\n",
       "      <td>65.000000</td>\n",
       "    </tr>\n",
       "    <tr>\n",
       "      <th>mean</th>\n",
       "      <td>1.059769</td>\n",
       "      <td>17.455154</td>\n",
       "      <td>71.425185</td>\n",
       "    </tr>\n",
       "    <tr>\n",
       "      <th>std</th>\n",
       "      <td>0.014136</td>\n",
       "      <td>0.038202</td>\n",
       "      <td>0.083538</td>\n",
       "    </tr>\n",
       "    <tr>\n",
       "      <th>min</th>\n",
       "      <td>1.033000</td>\n",
       "      <td>17.392000</td>\n",
       "      <td>71.362000</td>\n",
       "    </tr>\n",
       "    <tr>\n",
       "      <th>25%</th>\n",
       "      <td>1.052000</td>\n",
       "      <td>17.429000</td>\n",
       "      <td>71.375000</td>\n",
       "    </tr>\n",
       "    <tr>\n",
       "      <th>50%</th>\n",
       "      <td>1.052000</td>\n",
       "      <td>17.469000</td>\n",
       "      <td>71.382000</td>\n",
       "    </tr>\n",
       "    <tr>\n",
       "      <th>75%</th>\n",
       "      <td>1.074000</td>\n",
       "      <td>17.469000</td>\n",
       "      <td>71.456000</td>\n",
       "    </tr>\n",
       "    <tr>\n",
       "      <th>max</th>\n",
       "      <td>1.101000</td>\n",
       "      <td>17.542000</td>\n",
       "      <td>71.690000</td>\n",
       "    </tr>\n",
       "  </tbody>\n",
       "</table>\n",
       "</div>"
      ],
      "text/plain": [
       "               x          y          z\n",
       "count  65.000000  65.000000  65.000000\n",
       "mean    1.059769  17.455154  71.425185\n",
       "std     0.014136   0.038202   0.083538\n",
       "min     1.033000  17.392000  71.362000\n",
       "25%     1.052000  17.429000  71.375000\n",
       "50%     1.052000  17.469000  71.382000\n",
       "75%     1.074000  17.469000  71.456000\n",
       "max     1.101000  17.542000  71.690000"
      ]
     },
     "execution_count": 18,
     "metadata": {},
     "output_type": "execute_result"
    }
   ],
   "source": [
    "df_trans.describe()"
   ]
  },
  {
   "cell_type": "code",
   "execution_count": 19,
   "id": "3ee40adc",
   "metadata": {},
   "outputs": [
    {
     "data": {
      "text/html": [
       "<div>\n",
       "<style scoped>\n",
       "    .dataframe tbody tr th:only-of-type {\n",
       "        vertical-align: middle;\n",
       "    }\n",
       "\n",
       "    .dataframe tbody tr th {\n",
       "        vertical-align: top;\n",
       "    }\n",
       "\n",
       "    .dataframe thead th {\n",
       "        text-align: right;\n",
       "    }\n",
       "</style>\n",
       "<table border=\"1\" class=\"dataframe\">\n",
       "  <thead>\n",
       "    <tr style=\"text-align: right;\">\n",
       "      <th></th>\n",
       "      <th>x</th>\n",
       "      <th>y</th>\n",
       "      <th>z</th>\n",
       "    </tr>\n",
       "  </thead>\n",
       "  <tbody>\n",
       "    <tr>\n",
       "      <th>0</th>\n",
       "      <td>1.051</td>\n",
       "      <td>17.392</td>\n",
       "      <td>71.362</td>\n",
       "    </tr>\n",
       "    <tr>\n",
       "      <th>1</th>\n",
       "      <td>1.074</td>\n",
       "      <td>17.403</td>\n",
       "      <td>71.456</td>\n",
       "    </tr>\n",
       "    <tr>\n",
       "      <th>2</th>\n",
       "      <td>1.051</td>\n",
       "      <td>17.392</td>\n",
       "      <td>71.362</td>\n",
       "    </tr>\n",
       "    <tr>\n",
       "      <th>3</th>\n",
       "      <td>1.074</td>\n",
       "      <td>17.403</td>\n",
       "      <td>71.456</td>\n",
       "    </tr>\n",
       "    <tr>\n",
       "      <th>4</th>\n",
       "      <td>1.074</td>\n",
       "      <td>17.403</td>\n",
       "      <td>71.456</td>\n",
       "    </tr>\n",
       "  </tbody>\n",
       "</table>\n",
       "</div>"
      ],
      "text/plain": [
       "       x       y       z\n",
       "0  1.051  17.392  71.362\n",
       "1  1.074  17.403  71.456\n",
       "2  1.051  17.392  71.362\n",
       "3  1.074  17.403  71.456\n",
       "4  1.074  17.403  71.456"
      ]
     },
     "execution_count": 19,
     "metadata": {},
     "output_type": "execute_result"
    }
   ],
   "source": [
    "df_trans.head()"
   ]
  },
  {
   "cell_type": "code",
   "execution_count": 20,
   "id": "c7e74997",
   "metadata": {},
   "outputs": [
    {
     "data": {
      "text/html": [
       "<div>\n",
       "<style scoped>\n",
       "    .dataframe tbody tr th:only-of-type {\n",
       "        vertical-align: middle;\n",
       "    }\n",
       "\n",
       "    .dataframe tbody tr th {\n",
       "        vertical-align: top;\n",
       "    }\n",
       "\n",
       "    .dataframe thead th {\n",
       "        text-align: right;\n",
       "    }\n",
       "</style>\n",
       "<table border=\"1\" class=\"dataframe\">\n",
       "  <thead>\n",
       "    <tr style=\"text-align: right;\">\n",
       "      <th></th>\n",
       "      <th>pitch</th>\n",
       "      <th>yaw</th>\n",
       "      <th>roll</th>\n",
       "    </tr>\n",
       "  </thead>\n",
       "  <tbody>\n",
       "    <tr>\n",
       "      <th>5</th>\n",
       "      <td>-32.797307</td>\n",
       "      <td>0.548546</td>\n",
       "      <td>-1.261949</td>\n",
       "    </tr>\n",
       "    <tr>\n",
       "      <th>6</th>\n",
       "      <td>-32.797307</td>\n",
       "      <td>0.548546</td>\n",
       "      <td>-1.261949</td>\n",
       "    </tr>\n",
       "    <tr>\n",
       "      <th>7</th>\n",
       "      <td>-32.215824</td>\n",
       "      <td>0.473946</td>\n",
       "      <td>-1.078153</td>\n",
       "    </tr>\n",
       "    <tr>\n",
       "      <th>8</th>\n",
       "      <td>-32.215824</td>\n",
       "      <td>0.473946</td>\n",
       "      <td>-1.078153</td>\n",
       "    </tr>\n",
       "    <tr>\n",
       "      <th>9</th>\n",
       "      <td>-32.215824</td>\n",
       "      <td>0.473946</td>\n",
       "      <td>-1.078153</td>\n",
       "    </tr>\n",
       "  </tbody>\n",
       "</table>\n",
       "</div>"
      ],
      "text/plain": [
       "       pitch       yaw      roll\n",
       "5 -32.797307  0.548546 -1.261949\n",
       "6 -32.797307  0.548546 -1.261949\n",
       "7 -32.215824  0.473946 -1.078153\n",
       "8 -32.215824  0.473946 -1.078153\n",
       "9 -32.215824  0.473946 -1.078153"
      ]
     },
     "execution_count": 20,
     "metadata": {},
     "output_type": "execute_result"
    }
   ],
   "source": [
    "df_angle.head()"
   ]
  },
  {
   "cell_type": "code",
   "execution_count": 21,
   "id": "30887b7a",
   "metadata": {},
   "outputs": [],
   "source": [
    "label = ['pitch','yaw','roll']"
   ]
  },
  {
   "cell_type": "code",
   "execution_count": 22,
   "id": "7f363247",
   "metadata": {
    "scrolled": true
   },
   "outputs": [
    {
     "data": {
      "image/png": "[encoded data removed]",
      "text/plain": [
       "<Figure size 432x288 with 1 Axes>"
      ]
     },
     "metadata": {
      "needs_background": "light"
     },
     "output_type": "display_data"
    }
   ],
   "source": [
    "plt.plot(df_angle['pitch'], label='pitch')\n",
    "plt.plot(df_angle['yaw'], label='yaw')\n",
    "plt.plot(df_angle['roll'], label='roll')\n",
    "plt.ylabel('angle(degree)')\n",
    "plt.xlabel('횟수')\n",
    "plt.legend(loc='upper right', frameon=True) \n",
    "plt.show()"
   ]
  },
  {
   "cell_type": "code",
   "execution_count": 23,
   "id": "c176674a",
   "metadata": {},
   "outputs": [
    {
     "data": {
      "image/png": "[encoded data removed]",
      "text/plain": [
       "<Figure size 432x288 with 1 Axes>"
      ]
     },
     "metadata": {
      "needs_background": "light"
     },
     "output_type": "display_data"
    }
   ],
   "source": [
    "plt.plot(df_trans['x'], label='x distance')\n",
    "plt.plot(df_trans['y'], label='y distance')\n",
    "plt.plot(df_trans['z'], label='z distance')\n",
    "plt.xlabel('횟수')\n",
    "plt.ylabel('distance(cm)')\n",
    "plt.legend(loc='upper right', frameon=True) \n",
    "plt.show()"
   ]
  },
  {
   "cell_type": "code",
   "execution_count": 24,
   "id": "87825588",
   "metadata": {
    "scrolled": true
   },
   "outputs": [
    {
     "data": {
      "image/png": "[encoded data removed]",
      "text/plain": [
       "<Figure size 432x288 with 1 Axes>"
      ]
     },
     "metadata": {
      "needs_background": "light"
     },
     "output_type": "display_data"
    }
   ],
   "source": [
    "#plt.plot(df_angle['yaw'], label='yaw', color='#ff7f0e')\n",
    "#plt.plot(df_angle['roll'], label='roll', color='#2ca02c')\n",
    "plt.plot(df_angle['pitch'], label='Origin_yaw', color='violet')\n",
    "plt.ylabel('angle(degree)')\n",
    "plt.xlabel('횟수')\n",
    "plt.legend(loc='upper right', frameon=True) \n",
    "plt.show()"
   ]
  },
  {
   "cell_type": "code",
   "execution_count": 25,
   "id": "845307d7",
   "metadata": {},
   "outputs": [
    {
     "data": {
      "image/png": "[encoded data removed]",
      "text/plain": [
       "<Figure size 432x288 with 1 Axes>"
      ]
     },
     "metadata": {
      "needs_background": "light"
     },
     "output_type": "display_data"
    }
   ],
   "source": [
    "#plt.plot(df_trans['z'], label='z distance',color='#2ca02c')\n",
    "plt.plot(df_trans['x'], label='Origin_y distance')\n",
    "plt.xlabel('횟수')\n",
    "plt.ylabel('Tozero+Otsu_distance(cm)')\n",
    "plt.legend()\n",
    "plt.show()"
   ]
  },
  {
   "cell_type": "code",
   "execution_count": null,
   "id": "292024a2",
   "metadata": {},
   "outputs": [],
   "source": []
  },
  {
   "cell_type": "code",
   "execution_count": null,
   "id": "756a62a9",
   "metadata": {},
   "outputs": [],
   "source": []
  }
 ],
 "metadata": {
  "kernelspec": {
   "display_name": "Python 3",
   "language": "python",
   "name": "python3"
  },
  "language_info": {
   "codemirror_mode": {
    "name": "ipython",
    "version": 3
   },
   "file_extension": ".py",
   "mimetype": "text/x-python",
   "name": "python",
   "nbconvert_exporter": "python",
   "pygments_lexer": "ipython3",
   "version": "3.8.10"
  }
 },
 "nbformat": 4,
 "nbformat_minor": 5
}
