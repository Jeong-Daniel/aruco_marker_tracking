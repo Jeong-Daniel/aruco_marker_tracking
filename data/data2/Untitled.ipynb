{
 "cells": [
  {
   "cell_type": "code",
   "execution_count": 61,
   "id": "1d6db9a1",
   "metadata": {},
   "outputs": [],
   "source": [
    "import pandas as pd\n",
    "import numpy as np\n",
    "import matplotlib.pyplot as plt\n",
    "from matplotlib import font_manager, rc\n",
    "font_path = \"C:/Windows/Fonts/NGULIM.TTF\"\n",
    "font = font_manager.FontProperties(fname=font_path).get_name()\n",
    "rc('font', family=font)"
   ]
  },
  {
   "cell_type": "code",
   "execution_count": 62,
   "id": "662e4b74",
   "metadata": {},
   "outputs": [],
   "source": [
    "df_angle = pd.read_csv('10_100_angle.csv', index_col = 0)\n",
    "df_trans = pd.read_csv('10_100_trans.csv', index_col = 0)\n",
    "df_trans = df_trans*100"
   ]
  },
  {
   "cell_type": "code",
   "execution_count": 63,
   "id": "effca320",
   "metadata": {},
   "outputs": [],
   "source": [
    "df_trans = df_trans[10:70]\n",
    "df_angle = df_angle[10:70]"
   ]
  },
  {
   "cell_type": "code",
   "execution_count": 64,
   "id": "ff3918da",
   "metadata": {},
   "outputs": [
    {
     "data": {
      "text/html": [
       "<div>\n",
       "<style scoped>\n",
       "    .dataframe tbody tr th:only-of-type {\n",
       "        vertical-align: middle;\n",
       "    }\n",
       "\n",
       "    .dataframe tbody tr th {\n",
       "        vertical-align: top;\n",
       "    }\n",
       "\n",
       "    .dataframe thead th {\n",
       "        text-align: right;\n",
       "    }\n",
       "</style>\n",
       "<table border=\"1\" class=\"dataframe\">\n",
       "  <thead>\n",
       "    <tr style=\"text-align: right;\">\n",
       "      <th></th>\n",
       "      <th>pitch</th>\n",
       "      <th>yaw</th>\n",
       "      <th>roll</th>\n",
       "    </tr>\n",
       "  </thead>\n",
       "  <tbody>\n",
       "    <tr>\n",
       "      <th>count</th>\n",
       "      <td>60.000000</td>\n",
       "      <td>60.000000</td>\n",
       "      <td>60.000000</td>\n",
       "    </tr>\n",
       "    <tr>\n",
       "      <th>mean</th>\n",
       "      <td>-29.374700</td>\n",
       "      <td>-0.265644</td>\n",
       "      <td>-2.543571</td>\n",
       "    </tr>\n",
       "    <tr>\n",
       "      <th>std</th>\n",
       "      <td>2.215614</td>\n",
       "      <td>1.219798</td>\n",
       "      <td>0.843395</td>\n",
       "    </tr>\n",
       "    <tr>\n",
       "      <th>min</th>\n",
       "      <td>-33.294639</td>\n",
       "      <td>-4.150599</td>\n",
       "      <td>-4.443765</td>\n",
       "    </tr>\n",
       "    <tr>\n",
       "      <th>25%</th>\n",
       "      <td>-30.662995</td>\n",
       "      <td>-0.993559</td>\n",
       "      <td>-3.083894</td>\n",
       "    </tr>\n",
       "    <tr>\n",
       "      <th>50%</th>\n",
       "      <td>-30.218860</td>\n",
       "      <td>0.185222</td>\n",
       "      <td>-2.709184</td>\n",
       "    </tr>\n",
       "    <tr>\n",
       "      <th>75%</th>\n",
       "      <td>-27.667559</td>\n",
       "      <td>0.464379</td>\n",
       "      <td>-1.917001</td>\n",
       "    </tr>\n",
       "    <tr>\n",
       "      <th>max</th>\n",
       "      <td>-19.990021</td>\n",
       "      <td>1.930360</td>\n",
       "      <td>1.512388</td>\n",
       "    </tr>\n",
       "  </tbody>\n",
       "</table>\n",
       "</div>"
      ],
      "text/plain": [
       "           pitch        yaw       roll\n",
       "count  60.000000  60.000000  60.000000\n",
       "mean  -29.374700  -0.265644  -2.543571\n",
       "std     2.215614   1.219798   0.843395\n",
       "min   -33.294639  -4.150599  -4.443765\n",
       "25%   -30.662995  -0.993559  -3.083894\n",
       "50%   -30.218860   0.185222  -2.709184\n",
       "75%   -27.667559   0.464379  -1.917001\n",
       "max   -19.990021   1.930360   1.512388"
      ]
     },
     "execution_count": 64,
     "metadata": {},
     "output_type": "execute_result"
    }
   ],
   "source": [
    "df_angle.describe()"
   ]
  },
  {
   "cell_type": "code",
   "execution_count": 65,
   "id": "c224815f",
   "metadata": {
    "scrolled": true
   },
   "outputs": [
    {
     "data": {
      "text/html": [
       "<div>\n",
       "<style scoped>\n",
       "    .dataframe tbody tr th:only-of-type {\n",
       "        vertical-align: middle;\n",
       "    }\n",
       "\n",
       "    .dataframe tbody tr th {\n",
       "        vertical-align: top;\n",
       "    }\n",
       "\n",
       "    .dataframe thead th {\n",
       "        text-align: right;\n",
       "    }\n",
       "</style>\n",
       "<table border=\"1\" class=\"dataframe\">\n",
       "  <thead>\n",
       "    <tr style=\"text-align: right;\">\n",
       "      <th></th>\n",
       "      <th>x</th>\n",
       "      <th>y</th>\n",
       "      <th>z</th>\n",
       "    </tr>\n",
       "  </thead>\n",
       "  <tbody>\n",
       "    <tr>\n",
       "      <th>count</th>\n",
       "      <td>60.000000</td>\n",
       "      <td>60.000000</td>\n",
       "      <td>60.000000</td>\n",
       "    </tr>\n",
       "    <tr>\n",
       "      <th>mean</th>\n",
       "      <td>-3.496717</td>\n",
       "      <td>0.863067</td>\n",
       "      <td>42.190967</td>\n",
       "    </tr>\n",
       "    <tr>\n",
       "      <th>std</th>\n",
       "      <td>1.552814</td>\n",
       "      <td>5.951980</td>\n",
       "      <td>10.882619</td>\n",
       "    </tr>\n",
       "    <tr>\n",
       "      <th>min</th>\n",
       "      <td>-7.917000</td>\n",
       "      <td>-11.005000</td>\n",
       "      <td>36.956000</td>\n",
       "    </tr>\n",
       "    <tr>\n",
       "      <th>25%</th>\n",
       "      <td>-5.476000</td>\n",
       "      <td>-6.617000</td>\n",
       "      <td>37.652000</td>\n",
       "    </tr>\n",
       "    <tr>\n",
       "      <th>50%</th>\n",
       "      <td>-2.728000</td>\n",
       "      <td>4.147000</td>\n",
       "      <td>37.828500</td>\n",
       "    </tr>\n",
       "    <tr>\n",
       "      <th>75%</th>\n",
       "      <td>-2.722000</td>\n",
       "      <td>4.174000</td>\n",
       "      <td>40.867000</td>\n",
       "    </tr>\n",
       "    <tr>\n",
       "      <th>max</th>\n",
       "      <td>-1.332000</td>\n",
       "      <td>8.080000</td>\n",
       "      <td>74.545000</td>\n",
       "    </tr>\n",
       "  </tbody>\n",
       "</table>\n",
       "</div>"
      ],
      "text/plain": [
       "               x          y          z\n",
       "count  60.000000  60.000000  60.000000\n",
       "mean   -3.496717   0.863067  42.190967\n",
       "std     1.552814   5.951980  10.882619\n",
       "min    -7.917000 -11.005000  36.956000\n",
       "25%    -5.476000  -6.617000  37.652000\n",
       "50%    -2.728000   4.147000  37.828500\n",
       "75%    -2.722000   4.174000  40.867000\n",
       "max    -1.332000   8.080000  74.545000"
      ]
     },
     "execution_count": 65,
     "metadata": {},
     "output_type": "execute_result"
    }
   ],
   "source": [
    "df_trans.describe()"
   ]
  },
  {
   "cell_type": "code",
   "execution_count": 66,
   "id": "30887b7a",
   "metadata": {},
   "outputs": [],
   "source": [
    "label = ['pitch','yaw','roll']"
   ]
  },
  {
   "cell_type": "code",
   "execution_count": 67,
   "id": "7f363247",
   "metadata": {
    "scrolled": true
   },
   "outputs": [
    {
     "data": {
      "image/png": "[encoded data removed]",
      "text/plain": [
       "<Figure size 432x288 with 1 Axes>"
      ]
     },
     "metadata": {
      "needs_background": "light"
     },
     "output_type": "display_data"
    }
   ],
   "source": [
    "plt.plot(df_angle['pitch'], label='pitch')\n",
    "plt.plot(df_angle['yaw'], label='yaw')\n",
    "plt.plot(df_angle['roll'], label='roll')\n",
    "plt.ylabel('angle(degree)')\n",
    "plt.xlabel('횟수')\n",
    "plt.legend(loc='upper right', frameon=True) \n",
    "plt.show()"
   ]
  },
  {
   "cell_type": "code",
   "execution_count": 68,
   "id": "c176674a",
   "metadata": {},
   "outputs": [
    {
     "data": {
      "image/png": "[encoded data removed]",
      "text/plain": [
       "<Figure size 432x288 with 1 Axes>"
      ]
     },
     "metadata": {
      "needs_background": "light"
     },
     "output_type": "display_data"
    }
   ],
   "source": [
    "plt.plot(df_trans['x'], label='x distance')\n",
    "plt.plot(df_trans['y'], label='y distance')\n",
    "plt.plot(df_trans['z'], label='z distance')\n",
    "plt.xlabel('횟수')\n",
    "plt.ylabel('distance(cm)')\n",
    "plt.legend(loc='upper right', frameon=True) \n",
    "plt.show()"
   ]
  },
  {
   "cell_type": "code",
   "execution_count": 69,
   "id": "87825588",
   "metadata": {
    "scrolled": true
   },
   "outputs": [
    {
     "data": {
      "image/png": "[encoded data removed]",
      "text/plain": [
       "<Figure size 432x288 with 1 Axes>"
      ]
     },
     "metadata": {
      "needs_background": "light"
     },
     "output_type": "display_data"
    }
   ],
   "source": [
    "#plt.plot(df_angle['yaw'], label='yaw', color='#ff7f0e')\n",
    "#plt.plot(df_angle['roll'], label='roll', color='#2ca02c')\n",
    "plt.plot(df_angle['pitch'], label='pitch')\n",
    "plt.ylabel('angle(degree)')\n",
    "plt.xlabel('횟수')\n",
    "plt.legend(loc='upper right', frameon=True) \n",
    "plt.show()"
   ]
  },
  {
   "cell_type": "code",
   "execution_count": 70,
   "id": "845307d7",
   "metadata": {},
   "outputs": [
    {
     "data": {
      "image/png": "[encoded data removed]",
      "text/plain": [
       "<Figure size 432x288 with 1 Axes>"
      ]
     },
     "metadata": {
      "needs_background": "light"
     },
     "output_type": "display_data"
    }
   ],
   "source": [
    "#plt.plot(df_trans['z'], label='z distance',color='#2ca02c')\n",
    "plt.plot(df_trans['x'], label='x distance')\n",
    "plt.xlabel('횟수')\n",
    "plt.ylabel('distance(cm)')\n",
    "plt.legend()\n",
    "plt.show()"
   ]
  },
  {
   "cell_type": "code",
   "execution_count": null,
   "id": "8d5e5f07",
   "metadata": {},
   "outputs": [],
   "source": []
  }
 ],
 "metadata": {
  "kernelspec": {
   "display_name": "Python 3",
   "language": "python",
   "name": "python3"
  },
  "language_info": {
   "codemirror_mode": {
    "name": "ipython",
    "version": 3
   },
   "file_extension": ".py",
   "mimetype": "text/x-python",
   "name": "python",
   "nbconvert_exporter": "python",
   "pygments_lexer": "ipython3",
   "version": "3.8.10"
  }
 },
 "nbformat": 4,
 "nbformat_minor": 5
}
